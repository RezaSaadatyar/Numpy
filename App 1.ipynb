{
 "cells": [
  {
   "cell_type": "markdown",
   "metadata": {},
   "source": [
    "Numpy:\n",
    "\n",
    "- numpy.array(object, dtype=None, \\*, copy=True, order='K', subok=False, ndmin=0, like=None)\n",
    "- numpy.ndarray.flat[]\n",
    "- numpy.ndarray.flatten\n",
    "- numpy.ndarray.T\n",
    "- numpy.delete(arr, obj, axis=0) # 0:row; 1:column\n",
    "- np.copy\n",
    "- copy.deepcopy()\n",
    "- numpy.repeat(a, repeats, axis=None)\n",
    "- numpy.tile(A, reps)\n",
    "- numpy.unique(ar, return_index=False, return_inverse=False, return_counts=False, axis=None, \\*, equal_nan=True)\n",
    "- numpy.ravel(a, order='C')\n",
    "- Indexing and Slicing\n",
    "\n",
    "_Link:https://numpy.org/doc/stable/reference/generated/numpy.array.html_ <br/>\n",
    "_Link: https://numpy.org/doc/stable/reference/_\n"
   ]
  },
  {
   "cell_type": "markdown",
   "metadata": {},
   "source": [
    "_================================== Importing the required Libraries ===========================_\n"
   ]
  },
  {
   "cell_type": "code",
   "execution_count": 16,
   "metadata": {},
   "outputs": [],
   "source": [
    "import numpy as np\n",
    "import copy"
   ]
  },
  {
   "cell_type": "code",
   "execution_count": 17,
   "metadata": {},
   "outputs": [
    {
     "data": {
      "text/plain": [
       "15"
      ]
     },
     "execution_count": 17,
     "metadata": {},
     "output_type": "execute_result"
    }
   ],
   "source": [
    "A = np.array([[1, 8], [9, 15], [5, 6]])\n",
    "A.flat[3]"
   ]
  },
  {
   "cell_type": "code",
   "execution_count": 18,
   "metadata": {},
   "outputs": [
    {
     "data": {
      "text/plain": [
       "array([ 1,  8,  9, 15,  5,  6])"
      ]
     },
     "execution_count": 18,
     "metadata": {},
     "output_type": "execute_result"
    }
   ],
   "source": [
    "A.flatten()"
   ]
  },
  {
   "cell_type": "code",
   "execution_count": 19,
   "metadata": {},
   "outputs": [
    {
     "data": {
      "text/plain": [
       "array([[ 1,  9,  5],\n",
       "       [ 8, 15,  6]])"
      ]
     },
     "execution_count": 19,
     "metadata": {},
     "output_type": "execute_result"
    }
   ],
   "source": [
    "A.T"
   ]
  },
  {
   "cell_type": "code",
   "execution_count": 5,
   "metadata": {},
   "outputs": [
    {
     "data": {
      "text/plain": [
       "array([[ 1,  8],\n",
       "       [ 9, 15]])"
      ]
     },
     "execution_count": 5,
     "metadata": {},
     "output_type": "execute_result"
    }
   ],
   "source": [
    "np.delete(A, 2, axis=0)"
   ]
  },
  {
   "cell_type": "code",
   "execution_count": 46,
   "metadata": {},
   "outputs": [
    {
     "name": "stdout",
     "output_type": "stream",
     "text": [
      "A:\n",
      " [[ 1  8]\n",
      " [ 9 15]\n",
      " [ 5  6]],\n",
      " b:\n",
      " [[ 1  8]\n",
      " [ 9 15]\n",
      " [10  6]]\n"
     ]
    }
   ],
   "source": [
    "b = np.copy(A)\n",
    "b[2][0] = 10\n",
    "print(f\"A:\\n {A},\\n b:\\n {b}\")"
   ]
  },
  {
   "cell_type": "code",
   "execution_count": 45,
   "metadata": {},
   "outputs": [
    {
     "name": "stdout",
     "output_type": "stream",
     "text": [
      "A:\n",
      " [[ 1  8]\n",
      " [ 9 15]\n",
      " [ 5  6]],\n",
      " c:\n",
      " [[ 1  8]\n",
      " [ 9 15]\n",
      " [12  6]]\n"
     ]
    }
   ],
   "source": [
    "c = copy.deepcopy(A)\n",
    "c[2][0] = 12\n",
    "print(f\"A:\\n {A},\\n c:\\n {c}\")"
   ]
  },
  {
   "cell_type": "code",
   "execution_count": 43,
   "metadata": {},
   "outputs": [
    {
     "name": "stdout",
     "output_type": "stream",
     "text": [
      "A:\n",
      " [[ 1  8]\n",
      " [ 9 15]\n",
      " [ 5  6]]\n",
      "Repeat_Row:\n",
      " [[ 1  8]\n",
      " [ 1  8]\n",
      " [ 9 15]\n",
      " [ 9 15]\n",
      " [ 5  6]\n",
      " [ 5  6]]\n",
      "Repeat_Column:\n",
      " [[ 1  1  8  8]\n",
      " [ 9  9 15 15]\n",
      " [ 5  5  6  6]]\n",
      "Repetition rate of the first column, Repetition rate of the second column: \n",
      "[[ 1  1  1  8]\n",
      " [ 9  9  9 15]\n",
      " [ 5  5  5  6]]\n"
     ]
    }
   ],
   "source": [
    "print(f\"A:\\n {A}\")\n",
    "print(f\"Repeat_Row:\\n {np.repeat(A,2,axis=0)}\")\n",
    "print(f\"Repeat_Column:\\n {np.repeat(A,2,axis=1)}\")\n",
    "a = np.repeat(A, [3, 1], axis=1)\n",
    "print(f\"Repetition rate of the first column, Repetition rate of the second column: \\n{a}\")"
   ]
  },
  {
   "cell_type": "code",
   "execution_count": 47,
   "metadata": {},
   "outputs": [
    {
     "name": "stdout",
     "output_type": "stream",
     "text": [
      "A:\n",
      " [[ 1  8]\n",
      " [ 9 15]\n",
      " [ 5  6]]\n"
     ]
    },
    {
     "data": {
      "text/plain": [
       "array([[ 1,  8,  1,  8],\n",
       "       [ 9, 15,  9, 15],\n",
       "       [ 5,  6,  5,  6],\n",
       "       [ 1,  8,  1,  8],\n",
       "       [ 9, 15,  9, 15],\n",
       "       [ 5,  6,  5,  6]])"
      ]
     },
     "execution_count": 47,
     "metadata": {},
     "output_type": "execute_result"
    }
   ],
   "source": [
    "print(f\"A:\\n {A}\")\n",
    "np.tile(A, (2, 2))"
   ]
  },
  {
   "cell_type": "code",
   "execution_count": 22,
   "metadata": {},
   "outputs": [
    {
     "data": {
      "text/plain": [
       "array([1, 2, 4, 5, 6, 7, 8, 9])"
      ]
     },
     "execution_count": 22,
     "metadata": {},
     "output_type": "execute_result"
    }
   ],
   "source": [
    "B = np.array([[1, 1, 2, 5, 5], [5, 4, 5, 5, 6], [7, 9, 8, 8, 9]])\n",
    "np.unique(B)"
   ]
  },
  {
   "cell_type": "code",
   "execution_count": 48,
   "metadata": {},
   "outputs": [
    {
     "name": "stdout",
     "output_type": "stream",
     "text": [
      "A:\n",
      " [[ 1  8]\n",
      " [ 9 15]\n",
      " [ 5  6]]\n",
      "np.ravel: [ 1  8  9 15  5  6]\n",
      "np.ravel: [ 1  9  5  8 15  6]\n"
     ]
    }
   ],
   "source": [
    "print(f\"A:\\n {A}\")\n",
    "print(f\"np.ravel: {np.ravel(A,order='A')}\")\n",
    "print(f\"np.ravel: {np.ravel(A,order='F')}\")"
   ]
  },
  {
   "cell_type": "code",
   "execution_count": 33,
   "metadata": {},
   "outputs": [
    {
     "name": "stdout",
     "output_type": "stream",
     "text": [
      "B[1:4] or BB: [2 3 4]\n",
      "BB: [12 12  4]\n",
      "B: [ 1 12 12  4  5  6  7  8  9]\n"
     ]
    }
   ],
   "source": [
    "B=np.array([1,2,3,4,5,6,7,8,9])\n",
    "BB=B[1:4]  \n",
    "print(f\"B[1:4] or BB: {BB}\") \n",
    "BB[0:2]=12 \n",
    "print(f\"BB: {BB}\")    \n",
    "print(f\"B: {B}\")"
   ]
  },
  {
   "cell_type": "code",
   "execution_count": 49,
   "metadata": {},
   "outputs": [
    {
     "name": "stdout",
     "output_type": "stream",
     "text": [
      "A:\n",
      " [[ 1  8]\n",
      " [ 9 15]\n",
      " [ 5  6]]\n",
      "A[1]: [ 9 15]\n",
      "A[1][1] or A[1,1]: 15\n"
     ]
    }
   ],
   "source": [
    "print(f\"A:\\n {A}\")\n",
    "print(f\"A[1]: {A[1]}\")\n",
    "print(f\"A[1][1] or A[1,1]: {A[1][1]}\")"
   ]
  },
  {
   "cell_type": "code",
   "execution_count": 62,
   "metadata": {},
   "outputs": [
    {
     "name": "stdout",
     "output_type": "stream",
     "text": [
      "B is 2-D(2*3): \n",
      " [[1 2 3]\n",
      " [4 5 6]]\n",
      "C is 3-D(2*2*3): \n",
      " [[[ 1  2  3]\n",
      "  [ 4  5  6]]\n",
      "\n",
      " [[ 7  8  9]\n",
      "  [10 11 12]]]\n",
      "C[0]:\n",
      " [[1 2 3]\n",
      " [4 5 6]] \n",
      " C[1]:\n",
      "[[ 7  8  9]\n",
      " [10 11 12]]\n",
      "C[0][1] or C[0,1]:\n",
      " [4 5 6] \n",
      " C[1][1] or C[1,1]:\n",
      "[10 11 12]\n",
      "C[0]=100:\n",
      " [[100 100 100]\n",
      " [100 100 100]] \n"
     ]
    }
   ],
   "source": [
    "B=np.array([[1,2,3],[4,5,6]])\n",
    "print(f\"B is 2-D(2*3): \\n {B}\")\n",
    "C=np.array([[[1,2,3],[4,5,6]],[[7,8,9],[10,11,12]]])\n",
    "print(f\"C is 3-D(2*2*3): \\n {C}\")\n",
    "print(f\"C[0]:\\n {C[0]} \\n C[1]:\\n{C[1]}\")\n",
    "print(f\"C[0][1] or C[0,1]:\\n {C[0][1]} \\n C[1][1] or C[1,1]:\\n{C[1][1]}\")\n",
    "C[0]=100\n",
    "print(f\"C[0]=100:\\n {C[0]} \")"
   ]
  },
  {
   "cell_type": "code",
   "execution_count": 65,
   "metadata": {},
   "outputs": [
    {
     "data": {
      "text/plain": [
       "array([[2, 3],\n",
       "       [5, 6]])"
      ]
     },
     "execution_count": 65,
     "metadata": {},
     "output_type": "execute_result"
    }
   ],
   "source": [
    "B=np.array([[1,2,3],[4,5,6]])\n",
    "B[:2,1:]                     # [row i:row j, col i:col j]"
   ]
  }
 ],
 "metadata": {
  "kernelspec": {
   "display_name": "Python 3",
   "language": "python",
   "name": "python3"
  },
  "language_info": {
   "codemirror_mode": {
    "name": "ipython",
    "version": 3
   },
   "file_extension": ".py",
   "mimetype": "text/x-python",
   "name": "python",
   "nbconvert_exporter": "python",
   "pygments_lexer": "ipython3",
   "version": "3.10.11"
  }
 },
 "nbformat": 4,
 "nbformat_minor": 0
}
