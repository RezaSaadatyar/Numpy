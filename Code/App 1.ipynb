{
 "cells": [
  {
   "cell_type": "markdown",
   "metadata": {},
   "source": [
    "Numpy:\n",
    "\n",
    "- numpy.array(object, dtype=None, \\*, copy=True, order='K', subok=False, ndmin=0, like=None)\n",
    "- numpy.ndarray.flat[]\n",
    "- numpy.ndarray.flatten\n",
    "- numpy.ndarray.T\n",
    "- numpy.delete(arr, obj, axis=0) # 0:row; 1:column\n",
    "- np.copy\n",
    "- copy.deepcopy()\n",
    "- numpy.repeat(a, repeats, axis=None)\n",
    "- numpy.tile(A, reps)\n",
    "- numpy.unique(ar, return_index=False, return_inverse=False, return_counts=False, axis=None, \\*, equal_nan=True)\n",
    "- numpy.ravel(a, order='C')\n",
    "- Indexing and Slicing\n",
    "- Sorting and Searching in Numpy\n",
    "\n",
    "**[Link](https://numpy.org/doc/stable/reference/generated/numpy.array.html_)** <br/>\n",
    "**[Link](https://numpy.org/doc/stable/reference/_)**\n"
   ]
  },
  {
   "cell_type": "markdown",
   "metadata": {},
   "source": [
    "_================================== Importing the required Libraries ===========================_\n"
   ]
  },
  {
   "cell_type": "code",
   "execution_count": 3,
   "metadata": {},
   "outputs": [],
   "source": [
    "import numpy as np\n",
    "import copy"
   ]
  },
  {
   "cell_type": "markdown",
   "metadata": {},
   "source": [
    "1. *Creating Numpy Arrays*"
   ]
  },
  {
   "cell_type": "code",
   "execution_count": 7,
   "metadata": {},
   "outputs": [
    {
     "name": "stdout",
     "output_type": "stream",
     "text": [
      "a = array([1, 2, 3])\n",
      "b = array([[1, 2, 3],\n",
      "       [4, 5, 6]])\n",
      "c = array([[[1, 2],\n",
      "        [3, 4]],\n",
      "\n",
      "       [[5, 6],\n",
      "        [6, 7]]])\n"
     ]
    }
   ],
   "source": [
    "a = np.array([1, 2, 3])                             # create numpy 1D array\n",
    "print(f\"{a = }\")\n",
    "\n",
    "b = np.array([[1, 2, 3], [4, 5, 6]])                # create 2D array\n",
    "print(f\"{b = }\")\n",
    "\n",
    "c = np.array([[[1, 2], [3, 4]], [[5, 6], [6, 7]]])  # create 3D array\n",
    "print(f\"{c = }\")"
   ]
  },
  {
   "cell_type": "code",
   "execution_count": 48,
   "metadata": {},
   "outputs": [
    {
     "name": "stdout",
     "output_type": "stream",
     "text": [
      "a = array([1., 2., 3.])\n",
      "b = array([1.+0.j, 2.+0.j, 3.+0.j])\n",
      "a.astype(np.int32) = array([1, 2, 3])\n"
     ]
    }
   ],
   "source": [
    "a = np.array([1, 2, 3], dtype=float)              # float datatype\n",
    "print(f\"{a = }\")\n",
    "\n",
    "b = np.array([1, 2, 3], dtype=complex)            # complex datatype\n",
    "print(f\"{b = }\")\n",
    "\n",
    "print(f\"{a.astype(np.int32) = }\")"
   ]
  },
  {
   "cell_type": "markdown",
   "metadata": {},
   "source": [
    "2. *Array Attributes*"
   ]
  },
  {
   "cell_type": "code",
   "execution_count": 42,
   "metadata": {},
   "outputs": [
    {
     "name": "stdout",
     "output_type": "stream",
     "text": [
      "a = array([ 1,  3,  5,  7,  9, 11, 13, 15, 17, 19]) \n",
      "a.size = 10\n",
      "b = array([[ 1,  2,  3,  4,  5],\n",
      "       [ 6,  7,  8,  9, 10],\n",
      "       [11, 12, 13, 14, 15],\n",
      "       [16, 17, 18, 19, 20]]) \n",
      "b.size = 20\n",
      "c = array([[[ 0,  1,  2],\n",
      "        [ 3,  4,  5]],\n",
      "\n",
      "       [[ 6,  7,  8],\n",
      "        [ 9, 10, 11]],\n",
      "\n",
      "       [[12, 13, 14],\n",
      "        [15, 16, 17]]]) \n",
      "c.size = 18\n"
     ]
    }
   ],
   "source": [
    "a = np.arange(1, 20, 2)\n",
    "print(f\"{a = } \\n{a.size = }\")\n",
    "\n",
    "b = np.arange(1, 21).reshape(4, 5)\n",
    "print(f\"{b = } \\n{b.size = }\")\n",
    "\n",
    "c = np.arange(18).reshape(3, 2, 3)\n",
    "print(f\"{c = } \\n{c.size = }\")"
   ]
  },
  {
   "cell_type": "code",
   "execution_count": 46,
   "metadata": {},
   "outputs": [
    {
     "name": "stdout",
     "output_type": "stream",
     "text": [
      "a = array([[1., 0., 0.],\n",
      "       [0., 1., 0.],\n",
      "       [0., 0., 1.]]) \n",
      "a.size = 9\n",
      "b = array([[0.16321869, 0.39824828, 0.01043678],\n",
      "       [0.48353042, 0.09788675, 0.02727212]]) \n",
      "b.size = 6\n",
      "c = array([-1.        , -0.33333333,  0.33333333,  1.        ,  1.66666667,\n",
      "        2.33333333,  3.        ,  3.66666667,  4.33333333,  5.        ]) \n",
      "c.size = 10\n",
      "d = array([[0., 0.],\n",
      "       [0., 0.],\n",
      "       [0., 0.],\n",
      "       [0., 0.]]) \n",
      "d.size = 8\n"
     ]
    }
   ],
   "source": [
    "a = np.identity(3)           # diagonal items is 1 and rest of item is 0\n",
    "print(f\"{a = } \\n{a.size = }\")\n",
    "\n",
    "\n",
    "b = np.random.random((2, 3))     # np.random\n",
    "print(f\"{b = } \\n{b.size = }\")\n",
    "\n",
    "c = np.linspace(-1, 5, 10)        # -10 is lower range , 10 is upper range and 20 is number of item to generate\n",
    "print(f\"{c = } \\n{c.size = }\")\n",
    "\n",
    "d = np.zeros((4, 2))\n",
    "print(f\"{d = } \\n{d.size = }\")"
   ]
  },
  {
   "cell_type": "markdown",
   "metadata": {},
   "source": [
    "3. *Array Operations*"
   ]
  },
  {
   "cell_type": "code",
   "execution_count": 59,
   "metadata": {},
   "outputs": [
    {
     "name": "stdout",
     "output_type": "stream",
     "text": [
      "a = array([[1, 2, 3],\n",
      "       [4, 5, 6]])\n",
      "b = array([[ 7,  8,  9],\n",
      "       [10, 11, 12]]) \n",
      "b.size = 6\n",
      "a * 2 = array([[ 2,  4,  6],\n",
      "       [ 8, 10, 12]])\n",
      "a ** 2 = array([[ 1,  4,  9],\n",
      "       [16, 25, 36]])\n",
      "a > 5 = array([[False, False, False],\n",
      "       [False, False,  True]])\n",
      "a * b = array([[ 7, 16, 27],\n",
      "       [40, 55, 72]])\n",
      "a ** b = array([[          1,         256,       19683],\n",
      "       [    1048576,    48828125, -2118184960]])\n",
      "Product:  720\n"
     ]
    }
   ],
   "source": [
    "a = np.array([[1, 2, 3], [4, 5, 6]])                # create 2D array\n",
    "print(f\"{a = }\")\n",
    "\n",
    "b = np.arange(7, 13).reshape(2, 3)\n",
    "print(f\"{b = } \\n{b.size = }\")\n",
    "\n",
    "print(f\"{a * 2 = }\")\n",
    "\n",
    "print(f\"{a ** 2 = }\")\n",
    "\n",
    "print(f\"{a > 5 = }\")\n",
    "\n",
    "print(f\"{a * b = }\")\n",
    "\n",
    "print(f\"{a ** b = }\")\n",
    "\n",
    "print('Product: ', np.prod(a))"
   ]
  },
  {
   "cell_type": "code",
   "execution_count": 60,
   "metadata": {},
   "outputs": [
    {
     "name": "stdout",
     "output_type": "stream",
     "text": [
      "a = array([[1, 2, 3],\n",
      "       [4, 5, 6]])\n",
      "b = array([[ 7,  8],\n",
      "       [ 9, 10],\n",
      "       [11, 12]])\n",
      "c = array([[ 58,  64],\n",
      "       [139, 154]])\n"
     ]
    }
   ],
   "source": [
    "a = np.array([[1, 2, 3], [4, 5, 6]])         \n",
    "print(f\"{a = }\")\n",
    "\n",
    "b = np.arange(7, 13).reshape(3, 2)\n",
    "print(f\"{b = }\")\n",
    "\n",
    "c = a.dot(b)     # (row1, col1) (row2, col2) -> row1 = col2 and col1 = row2 if this condition true then we apply dot product\n",
    "print(f\"{c = }\")\n"
   ]
  },
  {
   "cell_type": "markdown",
   "metadata": {},
   "source": [
    "4. *Indexing and Slicing*"
   ]
  },
  {
   "cell_type": "code",
   "execution_count": 69,
   "metadata": {},
   "outputs": [
    {
     "name": "stdout",
     "output_type": "stream",
     "text": [
      "a = array([[ 1,  2,  3,  4],\n",
      "       [ 5,  6,  7,  8],\n",
      "       [ 9, 10, 11, 12]])\n",
      "extracting 10 : 10\n",
      "b = array([[[ 1,  2],\n",
      "        [ 3,  4],\n",
      "        [ 5,  6]],\n",
      "\n",
      "       [[ 7,  8],\n",
      "        [ 9, 10],\n",
      "        [11, 12]]])\n",
      "extracting 5 : 8\n"
     ]
    }
   ],
   "source": [
    "a = np.arange(1, 13).reshape(3,4)\n",
    "print(f\"{a = }\")\n",
    "print('extracting 10 :', a[2, 1])       # a[row number, column number]\n",
    "\n",
    "b = np.arange(1, 13).reshape(2,3, 2)\n",
    "print(f\"{b = }\")\n",
    "print('extracting 5 :', b[1, 0, 1])    # b[2D array number, row , column]"
   ]
  },
  {
   "cell_type": "code",
   "execution_count": 75,
   "metadata": {},
   "outputs": [
    {
     "name": "stdout",
     "output_type": "stream",
     "text": [
      "a = array([[ 1,  2,  3,  4],\n",
      "       [ 5,  6,  7,  8],\n",
      "       [ 9, 10, 11, 12]])\n",
      "Extracting first row : [1 2 3 4]\n",
      "Extracting first column: [1 5 9]\n",
      "a[1:3, 1:3] = array([[ 6,  7],\n",
      "       [10, 11]])\n"
     ]
    }
   ],
   "source": [
    "a = np.arange(1, 13).reshape(3,4)\n",
    "print(f\"{a = }\")\n",
    "\n",
    "print(f\"Extracting first row : {a[0, :]}\")        # Extracting row\n",
    "print(f\"Extracting first column: {a[:, 0]}\")      # Extracting column\n",
    "print(f\"{a[1:3, 1:3] = }\")                        # a[start row: end row, start col : end col]\n",
    "\n"
   ]
  },
  {
   "cell_type": "code",
   "execution_count": 3,
   "metadata": {},
   "outputs": [
    {
     "data": {
      "text/plain": [
       "15"
      ]
     },
     "execution_count": 3,
     "metadata": {},
     "output_type": "execute_result"
    }
   ],
   "source": [
    "A = np.array([[1, 8], [9, 15], [5, 6]])\n",
    "A.flat[3]"
   ]
  },
  {
   "cell_type": "code",
   "execution_count": 4,
   "metadata": {},
   "outputs": [
    {
     "data": {
      "text/plain": [
       "array([ 1,  8,  9, 15,  5,  6])"
      ]
     },
     "execution_count": 4,
     "metadata": {},
     "output_type": "execute_result"
    }
   ],
   "source": [
    "A.flatten()"
   ]
  },
  {
   "cell_type": "code",
   "execution_count": 5,
   "metadata": {},
   "outputs": [
    {
     "data": {
      "text/plain": [
       "array([[ 1,  9,  5],\n",
       "       [ 8, 15,  6]])"
      ]
     },
     "execution_count": 5,
     "metadata": {},
     "output_type": "execute_result"
    }
   ],
   "source": [
    "A.T"
   ]
  },
  {
   "cell_type": "code",
   "execution_count": 6,
   "metadata": {},
   "outputs": [
    {
     "data": {
      "text/plain": [
       "array([[ 1,  8],\n",
       "       [ 9, 15]])"
      ]
     },
     "execution_count": 6,
     "metadata": {},
     "output_type": "execute_result"
    }
   ],
   "source": [
    "np.delete(A, 2, axis=0)"
   ]
  },
  {
   "cell_type": "code",
   "execution_count": 7,
   "metadata": {},
   "outputs": [
    {
     "name": "stdout",
     "output_type": "stream",
     "text": [
      "A:\n",
      " [[ 1  8]\n",
      " [ 9 15]\n",
      " [ 5  6]],\n",
      " b:\n",
      " [[ 1  8]\n",
      " [ 9 15]\n",
      " [10  6]]\n"
     ]
    }
   ],
   "source": [
    "b = np.copy(A)\n",
    "b[2][0] = 10\n",
    "print(f\"A:\\n {A},\\n b:\\n {b}\")"
   ]
  },
  {
   "cell_type": "code",
   "execution_count": 8,
   "metadata": {},
   "outputs": [
    {
     "name": "stdout",
     "output_type": "stream",
     "text": [
      "A:\n",
      " [[ 1  8]\n",
      " [ 9 15]\n",
      " [ 5  6]],\n",
      " c:\n",
      " [[ 1  8]\n",
      " [ 9 15]\n",
      " [12  6]]\n"
     ]
    }
   ],
   "source": [
    "c = copy.deepcopy(A)\n",
    "c[2][0] = 12\n",
    "print(f\"A:\\n {A},\\n c:\\n {c}\")"
   ]
  },
  {
   "cell_type": "code",
   "execution_count": 9,
   "metadata": {},
   "outputs": [
    {
     "name": "stdout",
     "output_type": "stream",
     "text": [
      "A:\n",
      " [[ 1  8]\n",
      " [ 9 15]\n",
      " [ 5  6]]\n",
      "Repeat_Row:\n",
      " [[ 1  8]\n",
      " [ 1  8]\n",
      " [ 9 15]\n",
      " [ 9 15]\n",
      " [ 5  6]\n",
      " [ 5  6]]\n",
      "Repeat_Column:\n",
      " [[ 1  1  8  8]\n",
      " [ 9  9 15 15]\n",
      " [ 5  5  6  6]]\n",
      "Repetition rate of the first column, Repetition rate of the second column: \n",
      "[[ 1  1  1  8]\n",
      " [ 9  9  9 15]\n",
      " [ 5  5  5  6]]\n"
     ]
    }
   ],
   "source": [
    "print(f\"A:\\n {A}\")\n",
    "print(f\"Repeat_Row:\\n {np.repeat(A,2,axis=0)}\")\n",
    "print(f\"Repeat_Column:\\n {np.repeat(A,2,axis=1)}\")\n",
    "a = np.repeat(A, [3, 1], axis=1)\n",
    "print(f\"Repetition rate of the first column, Repetition rate of the second column: \\n{a}\")"
   ]
  },
  {
   "cell_type": "code",
   "execution_count": 10,
   "metadata": {},
   "outputs": [
    {
     "name": "stdout",
     "output_type": "stream",
     "text": [
      "A:\n",
      " [[ 1  8]\n",
      " [ 9 15]\n",
      " [ 5  6]]\n"
     ]
    },
    {
     "data": {
      "text/plain": [
       "array([[ 1,  8,  1,  8],\n",
       "       [ 9, 15,  9, 15],\n",
       "       [ 5,  6,  5,  6],\n",
       "       [ 1,  8,  1,  8],\n",
       "       [ 9, 15,  9, 15],\n",
       "       [ 5,  6,  5,  6]])"
      ]
     },
     "execution_count": 10,
     "metadata": {},
     "output_type": "execute_result"
    }
   ],
   "source": [
    "print(f\"A:\\n {A}\")\n",
    "np.tile(A, (2, 2))"
   ]
  },
  {
   "cell_type": "code",
   "execution_count": 11,
   "metadata": {},
   "outputs": [
    {
     "data": {
      "text/plain": [
       "array([1, 2, 4, 5, 6, 7, 8, 9])"
      ]
     },
     "execution_count": 11,
     "metadata": {},
     "output_type": "execute_result"
    }
   ],
   "source": [
    "B = np.array([[1, 1, 2, 5, 5], [5, 4, 5, 5, 6], [7, 9, 8, 8, 9]])\n",
    "np.unique(B)"
   ]
  },
  {
   "cell_type": "code",
   "execution_count": 12,
   "metadata": {},
   "outputs": [
    {
     "name": "stdout",
     "output_type": "stream",
     "text": [
      "A:\n",
      " [[ 1  8]\n",
      " [ 9 15]\n",
      " [ 5  6]]\n",
      "np.ravel: [ 1  8  9 15  5  6]\n",
      "np.ravel: [ 1  9  5  8 15  6]\n"
     ]
    }
   ],
   "source": [
    "print(f\"A:\\n {A}\")\n",
    "print(f\"np.ravel: {np.ravel(A,order='A')}\")\n",
    "print(f\"np.ravel: {np.ravel(A,order='F')}\")"
   ]
  },
  {
   "cell_type": "code",
   "execution_count": 13,
   "metadata": {},
   "outputs": [
    {
     "name": "stdout",
     "output_type": "stream",
     "text": [
      "B[1:4] or BB: [2 3 4]\n",
      "BB: [12 12  4]\n",
      "B: [ 1 12 12  4  5  6  7  8  9]\n"
     ]
    }
   ],
   "source": [
    "B=np.array([1,2,3,4,5,6,7,8,9])\n",
    "BB=B[1:4]  \n",
    "print(f\"B[1:4] or BB: {BB}\") \n",
    "BB[0:2]=12 \n",
    "print(f\"BB: {BB}\")    \n",
    "print(f\"B: {B}\")"
   ]
  },
  {
   "cell_type": "code",
   "execution_count": 14,
   "metadata": {},
   "outputs": [
    {
     "name": "stdout",
     "output_type": "stream",
     "text": [
      "A:\n",
      " [[ 1  8]\n",
      " [ 9 15]\n",
      " [ 5  6]]\n",
      "A[1]: [ 9 15]\n",
      "A[1][1] or A[1,1]: 15\n"
     ]
    }
   ],
   "source": [
    "print(f\"A:\\n {A}\")\n",
    "print(f\"A[1]: {A[1]}\")\n",
    "print(f\"A[1][1] or A[1,1]: {A[1][1]}\")"
   ]
  },
  {
   "attachments": {
    "1.png": {
     "image/png": "[encoded data removed]"
    }
   },
   "cell_type": "markdown",
   "metadata": {},
   "source": [
    "![1.png](attachment:1.png)"
   ]
  },
  {
   "cell_type": "code",
   "execution_count": 15,
   "metadata": {},
   "outputs": [
    {
     "name": "stdout",
     "output_type": "stream",
     "text": [
      "B is 2-D(2*3): \n",
      " [[1 2 3]\n",
      " [4 5 6]]\n",
      "C is 3-D(2*2*3): \n",
      " [[[ 1  2  3]\n",
      "  [ 4  5  6]]\n",
      "\n",
      " [[ 7  8  9]\n",
      "  [10 11 12]]]\n",
      "C[0]:\n",
      " [[1 2 3]\n",
      " [4 5 6]] \n",
      " C[1]:\n",
      "[[ 7  8  9]\n",
      " [10 11 12]]\n",
      "C[0][1] or C[0,1]:\n",
      " [4 5 6] \n",
      " C[1][1] or C[1,1]:\n",
      "[10 11 12]\n",
      "C[0]=100:\n",
      " [[100 100 100]\n",
      " [100 100 100]] \n"
     ]
    }
   ],
   "source": [
    "B=np.array([[1,2,3],[4,5,6]])\n",
    "print(f\"B is 2-D(2*3): \\n {B}\")\n",
    "C=np.array([[[1,2,3],[4,5,6]],[[7,8,9],[10,11,12]]])\n",
    "print(f\"C is 3-D(2*2*3): \\n {C}\")\n",
    "print(f\"C[0]:\\n {C[0]} \\n C[1]:\\n{C[1]}\")\n",
    "print(f\"C[0][1] or C[0,1]:\\n {C[0][1]} \\n C[1][1] or C[1,1]:\\n{C[1][1]}\")\n",
    "C[0]=100\n",
    "print(f\"C[0]=100:\\n {C[0]} \")"
   ]
  },
  {
   "cell_type": "code",
   "execution_count": 16,
   "metadata": {},
   "outputs": [
    {
     "name": "stdout",
     "output_type": "stream",
     "text": [
      "B[:2,1:]:\n",
      " [[2 3 4]\n",
      " [6 7 8]]\n",
      "B[B>4]=0:\n",
      " [[  1   2   3   4]\n",
      " [  0   0   0   0]\n",
      " [  0  -1   0 -20]\n",
      " [  0   0   2   1]\n",
      " [  1  -7   0   0]]\n",
      "B[[1,3,0]]: \n",
      "[[0 0 0 0]\n",
      " [0 0 2 1]\n",
      " [1 2 3 4]]\n"
     ]
    }
   ],
   "source": [
    "B=np.array([[1,2,3,4],[5,6,7,8],[9,-1,11,-20],[8,7,2,1],[1,-7,12,6]])\n",
    "print(f\"B[:2,1:]:\\n {B[:2,1:] }\")       # [row i:row j, col i:col j]\n",
    "B[B>4]=0\n",
    "print(f\"B[B>4]=0:\\n {B}\")\n",
    "print(f\"B[[1,3,0]]: \\n{B[[1,3,0]]}\")"
   ]
  },
  {
   "cell_type": "code",
   "execution_count": 17,
   "metadata": {},
   "outputs": [
    {
     "name": "stdout",
     "output_type": "stream",
     "text": [
      "B:\n",
      "[[ 0  1  2  3]\n",
      " [ 4  5  6  7]\n",
      " [ 8  9 10 11]\n",
      " [12 13 14 15]\n",
      " [16 17 18 19]\n",
      " [20 21 22 23]\n",
      " [24 25 26 27]\n",
      " [28 29 30 31]]\n",
      "B[[1,3,5,6],[0,2,2,3]]:\n",
      "[ 4 14 22 27]\n",
      "B[[1,5,7,2]][[:,[0,3,1,2]]] or (row-->1,5,7,2)(all rows,col-->0,3,2,1):\n",
      " [[ 4  7  5  6]\n",
      " [20 23 21 22]\n",
      " [28 31 29 30]\n",
      " [ 8 11  9 10]]\n"
     ]
    }
   ],
   "source": [
    "B=np.arange(32).reshape((8,4))\n",
    "print(f\"B:\\n{B}\")\n",
    "print(f\"B[[1,3,5,6],[0,2,2,3]]:\\n{B[[1,3,5,6],[0,2,2,3]]}\") # B[1,0],B[3,5],B[5,2],[6,3]\n",
    "print(f\"B[[1,5,7,2]][[:,[0,3,1,2]]] or (row-->1,5,7,2)(all rows,col-->0,3,2,1):\\n {B[[1,5,7,2]][:,[0,3,1,2]]}\") "
   ]
  },
  {
   "cell_type": "code",
   "execution_count": 3,
   "metadata": {},
   "outputs": [
    {
     "name": "stdout",
     "output_type": "stream",
     "text": [
      "A:\n",
      " [[  1   2   3   4]\n",
      " [  5   6   7   8]\n",
      " [  9  -1  11 -20]\n",
      " [  8   7   2   1]\n",
      " [  1  -7  12   6]]\n",
      "A(axis=0):\n",
      "[[  1  -7   2 -20]\n",
      " [  1  -1   3   1]\n",
      " [  5   2   7   4]\n",
      " [  8   6  11   6]\n",
      " [  9   7  12   8]]\n",
      "A(axis=None):\n",
      "[-20  -7  -1   1   1   1   2   2   3   4   5   6   6   7   7   8   8   9\n",
      "  11  12]\n",
      "B:\n",
      "[(b'A', 1.8, 41) (b'R', 1.9, 38) (b'Q', 1.7, 38)]\n",
      "BB('height','age'):\n",
      "[(b'Q', 1.7, 38) (b'A', 1.8, 41) (b'R', 1.9, 38)]\n",
      "C(axis=0):\n",
      "[[0 4 3 2]\n",
      " [4 2 0 3]\n",
      " [1 0 1 0]\n",
      " [3 1 2 4]\n",
      " [2 3 4 1]]\n",
      " C(axis=1):\n",
      "[[0 1 2 3]\n",
      " [0 1 2 3]\n",
      " [3 1 0 2]\n",
      " [3 2 1 0]\n",
      " [1 0 3 2]]\n"
     ]
    }
   ],
   "source": [
    "A=np.array([[1,2,3,4],[5,6,7,8],[9,-1,11,-20],[8,7,2,1],[1,-7,12,6]])\n",
    "print(f\"A:\\n {A}\")\n",
    "AA=np.sort(A, axis=0)  \n",
    "print(f\"A(axis=0):\\n{AA}\")\n",
    "AAA=np.sort(A, axis=None)     # sort the flattened array\n",
    "print(f\"A(axis=None):\\n{AAA}\")\n",
    "\n",
    "dtype = [('name', 'S10'), ('height', float), ('age', int)]    # create a structured array\n",
    "values = [('A', 1.8, 41), ('R', 1.9, 38), ('Q', 1.7, 38)]\n",
    "B = np.array(values, dtype=dtype)\n",
    "print(f\"B:\\n{B}\")       \n",
    "BB=np.sort(B,order=['height','age'])\n",
    "print(f\"BB('height','age'):\\n{BB}\")\n",
    "\n",
    "C=np.argsort(A, axis=0)\n",
    "CC=np.argsort(A, axis=1)\n",
    "print(f\"C(axis=0):\\n{C}\\n C(axis=1):\\n{CC}\")"
   ]
  },
  {
   "cell_type": "code",
   "execution_count": 19,
   "metadata": {},
   "outputs": [
    {
     "name": "stdout",
     "output_type": "stream",
     "text": [
      "A:\n",
      " [[  1.   2.   3.   4.]\n",
      " [  5.  nan   7.   8.]\n",
      " [  9.  nan  11. -20.]\n",
      " [  8.   7.   2.  nan]\n",
      " [ nan  -7.  12.   6.]]\n",
      "A(max_index):\n",
      " [2 3 4 1]\n",
      "A(max_index):\n",
      " 18\n",
      "A(min_index):\n",
      " [0 4 3 2]\n"
     ]
    }
   ],
   "source": [
    "A=np.array([[1,2,3,4],[5,np.nan,7,8],[9,np.nan,11,-20],[8,7,2,np.nan],[np.nan,-7,12,6]])\n",
    "print(f\"A:\\n {A}\")\n",
    "AA=np.nanargmax(A,axis=0)\n",
    "print(f\"A(max_index):\\n {AA}\")\n",
    "AAA=np.nanargmax(A,axis=None)\n",
    "print(f\"A(max_index):\\n {AAA}\")\n",
    "\n",
    "BB=np.nanargmin(A,axis=0)\n",
    "print(f\"A(min_index):\\n {BB}\")"
   ]
  },
  {
   "cell_type": "code",
   "execution_count": 37,
   "metadata": {},
   "outputs": [
    {
     "name": "stdout",
     "output_type": "stream",
     "text": [
      "A:\n",
      " [[  1   2   3   4]\n",
      " [  5   5   7   8]\n",
      " [  9   7  11 -20]\n",
      " [  8   7   2   4]\n",
      " [  9  -7  12   6]]\n",
      "A((A>=3) & (A<10),A,-10):\n",
      " [[-10 -10   3   4]\n",
      " [  5   5   7   8]\n",
      " [  9   7 -10 -10]\n",
      " [  8   7 -10   4]\n",
      " [  9 -10 -10   6]]\n",
      "A(A>7):\n",
      " [[1 3]\n",
      " [2 0]\n",
      " [2 2]\n",
      " [3 0]\n",
      " [4 0]\n",
      " [4 2]]\n",
      "A(A>7,A):\n",
      " [ 8  9 11  8  9 12]\n"
     ]
    }
   ],
   "source": [
    "A=np.array([[1,2,3,4],[5,5,7,8],[9,7,11,-20],[8,7,2,4],[9,-7,12,6]])\n",
    "print(f\"A:\\n {A}\")\n",
    "AA=np.where((A>=3) & (A<10),A,-10)     # Return elements chosen from x or y depending on condition\n",
    "print(f\"A((A>=3) & (A<10),A,-10):\\n {AA}\")\n",
    "AAA=np.argwhere(A>7)\n",
    "print(f\"A(A>7):\\n {AAA}\")              # Indices of elements that are non-zero\n",
    "\n",
    "B=np.extract(A>7,A)                    # Return the elements of an array that satisfy some condition.\n",
    "print(f\"A(A>7,A):\\n {B}\")"
   ]
  },
  {
   "cell_type": "code",
   "execution_count": 2,
   "metadata": {},
   "outputs": [
    {
     "name": "stdout",
     "output_type": "stream",
     "text": [
      "A:\n",
      "[[1 2]\n",
      " [1 2]] \n",
      " B:\n",
      "[[3 4]\n",
      " [3 4]]\n",
      "multiply(A,B) or A*B:\n",
      "[[3 8]\n",
      " [3 8]]\n",
      "dot(A,B):\n",
      "[[ 9 12]\n",
      " [ 9 12]]\n"
     ]
    }
   ],
   "source": [
    "A=np.array([[1,2],[1,2]])\n",
    "B=np.array([[3,4],[3,4]])\n",
    "print(f\"A:\\n{A} \\n B:\\n{B}\")\n",
    "AA=np.multiply(A,B)\n",
    "print(f\"multiply(A,B) or A*B:\\n{AA}\")\n",
    "AAA=np.dot(A,B)\n",
    "print(f\"dot(A,B):\\n{AAA}\")"
   ]
  }
 ],
 "metadata": {
  "kernelspec": {
   "display_name": "Python 3",
   "language": "python",
   "name": "python3"
  },
  "language_info": {
   "codemirror_mode": {
    "name": "ipython",
    "version": 3
   },
   "file_extension": ".py",
   "mimetype": "text/x-python",
   "name": "python",
   "nbconvert_exporter": "python",
   "pygments_lexer": "ipython3",
   "version": "3.11.4"
  }
 },
 "nbformat": 4,
 "nbformat_minor": 0
}
